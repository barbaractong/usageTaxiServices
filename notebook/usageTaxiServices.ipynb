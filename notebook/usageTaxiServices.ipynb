{
 "cells": [
  {
   "cell_type": "markdown",
   "id": "8cf186f0",
   "metadata": {},
   "source": [
    "# Usage of taxi services"
   ]
  },
  {
   "cell_type": "code",
   "execution_count": 1,
   "id": "0b7e7267",
   "metadata": {},
   "outputs": [],
   "source": [
    "import os\n",
    "import logging\n",
    "import json\n",
    "import calendar\n",
    "\n",
    "import pandas as pd\n",
    "import numpy as np\n",
    "import seaborn as sns\n",
    "import matplotlib.pyplot as plt\n",
    "\n",
    "from zipfile import ZipFile\n",
    "from datetime import datetime, time"
   ]
  },
  {
   "cell_type": "code",
   "execution_count": 261,
   "id": "6ebc4d8b",
   "metadata": {},
   "outputs": [],
   "source": [
    "# Variables\n",
    "\n",
    "DATE_FORMAT = \"%m%d%Y\"\n",
    "RAW_PATH = \"../src/data/raw_file/\"\n",
    "LANDING_PATH = \"../src/data/landing/\"\n",
    "DATE_NOW = datetime.now()\n",
    "\n",
    "TAXI_FILE_PATH = f\"../src/data/raw_file/{DATE_NOW.strftime(DATE_FORMAT)}_taxi.json\""
   ]
  },
  {
   "cell_type": "markdown",
   "id": "fdd3eed3",
   "metadata": {},
   "source": [
    "1. File extraction definition and othe utils functions"
   ]
  },
  {
   "cell_type": "code",
   "execution_count": 6,
   "id": "f10a3f8d",
   "metadata": {},
   "outputs": [],
   "source": [
    "class FileExtraction:\n",
    "    def __init__(self, landing_path, raw_path, date):\n",
    "        self._landing_path = landing_path\n",
    "        self._raw_path = raw_path\n",
    "        self._date = date.strftime(DATE_FORMAT)\n",
    "\n",
    "    @property\n",
    "    def date(self):\n",
    "        return self._date\n",
    "    \n",
    "    @date.setter\n",
    "    def date(self, new_date):\n",
    "        self._date = new_date.strftime(DATE_FORMAT)\n",
    "\n",
    "    @property\n",
    "    def landing_path(self):\n",
    "        return self._landing_path\n",
    "\n",
    "    @landing_path.setter\n",
    "    def landing_path(self, path):\n",
    "        self._landing_path = self.validate_directory(path)\n",
    "\n",
    "    @property\n",
    "    def raw_path(self):\n",
    "        return self._raw_path\n",
    "\n",
    "    @raw_path.setter\n",
    "    def raw_path(self, path):\n",
    "        self._raw_path = self.validate_directory(path)\n",
    "\n",
    "    @staticmethod\n",
    "    def validate_directory(path):\n",
    "        if os.path.isdir(path):\n",
    "            return path\n",
    "        else:\n",
    "            logging.error(\"Please use a valid file path.\")\n",
    "\n",
    "    def load_compressed_file(self):\n",
    "        files = [file for file in os.listdir(self._landing_path)\n",
    "                 if os.path.isfile(os.path.join(self._landing_path, file))]\n",
    "\n",
    "        for file in files:\n",
    "            with ZipFile(os.path.join(self._landing_path, file)) as zip_file:\n",
    "                for zip_ in zip_file.namelist():\n",
    "                    origin_name = f\"{self._raw_path}{zip_}\"\n",
    "                    destine_name = f\"{self._raw_path}{self._date}_{zip_}\"\n",
    "\n",
    "                    if zip_.endswith('.json') and \"__MACOSX\" not in zip_:\n",
    "                        zip_file.extract(zip_, self._raw_path)\n",
    "                        os.replace(origin_name, destine_name)"
   ]
  },
  {
   "cell_type": "code",
   "execution_count": 7,
   "id": "9b8d127a",
   "metadata": {},
   "outputs": [],
   "source": [
    "def read_json_data(path):\n",
    "    with open(path, 'r') as file:\n",
    "        return json.loads(file.read())"
   ]
  },
  {
   "cell_type": "markdown",
   "id": "4fc06be6",
   "metadata": {},
   "source": [
    "2. Invokes FileExtraction class and extracts the zip file"
   ]
  },
  {
   "cell_type": "code",
   "execution_count": 15,
   "id": "c4c9839f",
   "metadata": {},
   "outputs": [],
   "source": [
    "fileExtraction = FileExtraction(raw_path=RAW_PATH, landing_path=LANDING_PATH, date=DATE_NOW)\n",
    "\n",
    "fileExtraction.load_compressed_file()"
   ]
  },
  {
   "cell_type": "markdown",
   "id": "b9d799a4",
   "metadata": {},
   "source": [
    "3. Reads the json from extracted zip file"
   ]
  },
  {
   "cell_type": "code",
   "execution_count": 84,
   "id": "e99af1e2",
   "metadata": {},
   "outputs": [],
   "source": [
    "taxi_data = read_json_data(TAXI_FILE_PATH)"
   ]
  },
  {
   "cell_type": "markdown",
   "id": "beaf9f6c",
   "metadata": {},
   "source": [
    "4. Loads into dataframe"
   ]
  },
  {
   "cell_type": "code",
   "execution_count": 85,
   "id": "fa0c80eb",
   "metadata": {},
   "outputs": [],
   "source": [
    "df_taxi = pd.json_normalize(taxi_data)"
   ]
  },
  {
   "cell_type": "markdown",
   "id": "460c576f",
   "metadata": {},
   "source": [
    "5. Check data information"
   ]
  },
  {
   "cell_type": "code",
   "execution_count": 86,
   "id": "ceb198c6",
   "metadata": {},
   "outputs": [
    {
     "name": "stdout",
     "output_type": "stream",
     "text": [
      "<class 'pandas.core.frame.DataFrame'>\n",
      "RangeIndex: 23867 entries, 0 to 23866\n",
      "Data columns (total 9 columns):\n",
      " #   Column                      Non-Null Count  Dtype  \n",
      "---  ------                      --------------  -----  \n",
      " 0   amount.value                23867 non-null  int64  \n",
      " 1   amount.precision            23867 non-null  int64  \n",
      " 2   amount.currency             23867 non-null  object \n",
      " 3   transaction_info.number     12019 non-null  float64\n",
      " 4   transaction_info.machine    0 non-null      object \n",
      " 5   transaction_info.timestamp  12019 non-null  float64\n",
      " 6   transaction_info.country    10352 non-null  object \n",
      " 7   transaction_info.currency   10352 non-null  object \n",
      " 8   transaction_info.partner    0 non-null      object \n",
      "dtypes: float64(2), int64(2), object(5)\n",
      "memory usage: 1.6+ MB\n"
     ]
    }
   ],
   "source": [
    "df_taxi.info()"
   ]
  },
  {
   "cell_type": "code",
   "execution_count": 87,
   "id": "458b8fe2",
   "metadata": {},
   "outputs": [
    {
     "data": {
      "text/html": [
       "<div>\n",
       "<style scoped>\n",
       "    .dataframe tbody tr th:only-of-type {\n",
       "        vertical-align: middle;\n",
       "    }\n",
       "\n",
       "    .dataframe tbody tr th {\n",
       "        vertical-align: top;\n",
       "    }\n",
       "\n",
       "    .dataframe thead th {\n",
       "        text-align: right;\n",
       "    }\n",
       "</style>\n",
       "<table border=\"1\" class=\"dataframe\">\n",
       "  <thead>\n",
       "    <tr style=\"text-align: right;\">\n",
       "      <th></th>\n",
       "      <th>amount.value</th>\n",
       "      <th>amount.precision</th>\n",
       "      <th>amount.currency</th>\n",
       "      <th>transaction_info.number</th>\n",
       "      <th>transaction_info.machine</th>\n",
       "      <th>transaction_info.timestamp</th>\n",
       "      <th>transaction_info.country</th>\n",
       "      <th>transaction_info.currency</th>\n",
       "      <th>transaction_info.partner</th>\n",
       "    </tr>\n",
       "  </thead>\n",
       "  <tbody>\n",
       "    <tr>\n",
       "      <th>0</th>\n",
       "      <td>-279000</td>\n",
       "      <td>5</td>\n",
       "      <td>EUR</td>\n",
       "      <td>NaN</td>\n",
       "      <td>None</td>\n",
       "      <td>NaN</td>\n",
       "      <td>None</td>\n",
       "      <td>None</td>\n",
       "      <td>None</td>\n",
       "    </tr>\n",
       "    <tr>\n",
       "      <th>1</th>\n",
       "      <td>-1000000</td>\n",
       "      <td>5</td>\n",
       "      <td>EUR</td>\n",
       "      <td>NaN</td>\n",
       "      <td>None</td>\n",
       "      <td>NaN</td>\n",
       "      <td>None</td>\n",
       "      <td>None</td>\n",
       "      <td>None</td>\n",
       "    </tr>\n",
       "    <tr>\n",
       "      <th>2</th>\n",
       "      <td>-945000</td>\n",
       "      <td>5</td>\n",
       "      <td>EUR</td>\n",
       "      <td>NaN</td>\n",
       "      <td>None</td>\n",
       "      <td>NaN</td>\n",
       "      <td>None</td>\n",
       "      <td>None</td>\n",
       "      <td>None</td>\n",
       "    </tr>\n",
       "    <tr>\n",
       "      <th>3</th>\n",
       "      <td>-1100000</td>\n",
       "      <td>5</td>\n",
       "      <td>EUR</td>\n",
       "      <td>1.0</td>\n",
       "      <td>None</td>\n",
       "      <td>1.621374e+12</td>\n",
       "      <td>AT</td>\n",
       "      <td>EUR</td>\n",
       "      <td>None</td>\n",
       "    </tr>\n",
       "    <tr>\n",
       "      <th>4</th>\n",
       "      <td>-556000</td>\n",
       "      <td>5</td>\n",
       "      <td>EUR</td>\n",
       "      <td>NaN</td>\n",
       "      <td>None</td>\n",
       "      <td>NaN</td>\n",
       "      <td>None</td>\n",
       "      <td>None</td>\n",
       "      <td>None</td>\n",
       "    </tr>\n",
       "  </tbody>\n",
       "</table>\n",
       "</div>"
      ],
      "text/plain": [
       "   amount.value  amount.precision amount.currency  transaction_info.number  \\\n",
       "0       -279000                 5             EUR                      NaN   \n",
       "1      -1000000                 5             EUR                      NaN   \n",
       "2       -945000                 5             EUR                      NaN   \n",
       "3      -1100000                 5             EUR                      1.0   \n",
       "4       -556000                 5             EUR                      NaN   \n",
       "\n",
       "  transaction_info.machine  transaction_info.timestamp  \\\n",
       "0                     None                         NaN   \n",
       "1                     None                         NaN   \n",
       "2                     None                         NaN   \n",
       "3                     None                1.621374e+12   \n",
       "4                     None                         NaN   \n",
       "\n",
       "  transaction_info.country transaction_info.currency transaction_info.partner  \n",
       "0                     None                      None                     None  \n",
       "1                     None                      None                     None  \n",
       "2                     None                      None                     None  \n",
       "3                       AT                       EUR                     None  \n",
       "4                     None                      None                     None  "
      ]
     },
     "execution_count": 87,
     "metadata": {},
     "output_type": "execute_result"
    }
   ],
   "source": [
    "df_taxi.head()"
   ]
  },
  {
   "cell_type": "code",
   "execution_count": 88,
   "id": "f360a1e4",
   "metadata": {},
   "outputs": [
    {
     "name": "stdout",
     "output_type": "stream",
     "text": [
      "Dataframe shape before processing: (23867, 9)\n"
     ]
    }
   ],
   "source": [
    "# check the number of records before processing\n",
    "df_before = df_taxi.shape\n",
    "\n",
    "print(f\"Dataframe shape before processing: {df_before}\")"
   ]
  },
  {
   "cell_type": "markdown",
   "id": "0557c1fb",
   "metadata": {},
   "source": [
    "## Data transform process"
   ]
  },
  {
   "cell_type": "markdown",
   "id": "0f3e9d3f",
   "metadata": {},
   "source": [
    "1. Rename the columns - Replace \".\" to \"-\": It is better to work with columns names without dots. Prevents errors on data columns invocation"
   ]
  },
  {
   "cell_type": "code",
   "execution_count": 89,
   "id": "34f42862",
   "metadata": {},
   "outputs": [],
   "source": [
    "df_taxi.columns = df_taxi.columns.str.replace('.', '_', regex = True)"
   ]
  },
  {
   "cell_type": "code",
   "execution_count": 90,
   "id": "dd6cf358",
   "metadata": {},
   "outputs": [
    {
     "data": {
      "text/plain": [
       "Index(['amount_value', 'amount_precision', 'amount_currency',\n",
       "       'transaction_info_number', 'transaction_info_machine',\n",
       "       'transaction_info_timestamp', 'transaction_info_country',\n",
       "       'transaction_info_currency', 'transaction_info_partner'],\n",
       "      dtype='object')"
      ]
     },
     "execution_count": 90,
     "metadata": {},
     "output_type": "execute_result"
    }
   ],
   "source": [
    "# Check the results\n",
    "df_taxi.columns"
   ]
  },
  {
   "cell_type": "markdown",
   "id": "3a50b058",
   "metadata": {},
   "source": [
    "2. Check number of NaN values and replace it"
   ]
  },
  {
   "cell_type": "code",
   "execution_count": 91,
   "id": "3968424d",
   "metadata": {},
   "outputs": [
    {
     "data": {
      "text/plain": [
       "amount_value                      0\n",
       "amount_precision                  0\n",
       "amount_currency                   0\n",
       "transaction_info_number       11848\n",
       "transaction_info_machine      23867\n",
       "transaction_info_timestamp    11848\n",
       "transaction_info_country      13515\n",
       "transaction_info_currency     13515\n",
       "transaction_info_partner      23867\n",
       "dtype: int64"
      ]
     },
     "execution_count": 91,
     "metadata": {},
     "output_type": "execute_result"
    }
   ],
   "source": [
    "df_taxi.isna().sum()"
   ]
  },
  {
   "cell_type": "markdown",
   "id": "90e5177d",
   "metadata": {},
   "source": [
    "### Replacing NaN values\n",
    "\n",
    "- As described, the money amount has the precision set to 5 digits. For the exploratory analysis, the script will replace all NaN to 0 in columns with number type and replace NaN to \"\" to columns with string type. "
   ]
  },
  {
   "cell_type": "markdown",
   "id": "630d57bc",
   "metadata": {},
   "source": [
    "Checks if excists any 0 in the dataset as a representative information"
   ]
  },
  {
   "cell_type": "code",
   "execution_count": 92,
   "id": "056588f3",
   "metadata": {},
   "outputs": [
    {
     "data": {
      "text/plain": [
       "amount_value                  0\n",
       "amount_precision              0\n",
       "amount_currency               0\n",
       "transaction_info_number       0\n",
       "transaction_info_machine      0\n",
       "transaction_info_timestamp    0\n",
       "transaction_info_country      0\n",
       "transaction_info_currency     0\n",
       "transaction_info_partner      0\n",
       "dtype: int64"
      ]
     },
     "execution_count": 92,
     "metadata": {},
     "output_type": "execute_result"
    }
   ],
   "source": [
    "df_taxi.isin([0]).sum()"
   ]
  },
  {
   "cell_type": "markdown",
   "id": "6c4ec545",
   "metadata": {},
   "source": [
    "- In pandas dataframes, string has type \"object\" and numbers usually have \"float64\"type. As described in dataframe information at, we have"
   ]
  },
  {
   "cell_type": "code",
   "execution_count": 93,
   "id": "ad1ddab1",
   "metadata": {},
   "outputs": [],
   "source": [
    "float64 = df_taxi.select_dtypes(include=['float64']).columns\n",
    "stringObject = df_taxi.select_dtypes(include=['object']).columns"
   ]
  },
  {
   "cell_type": "code",
   "execution_count": 94,
   "id": "3718db45",
   "metadata": {},
   "outputs": [],
   "source": [
    "# filling the NaN values\n",
    "df_taxi.loc[:, float64] = df_taxi.loc[:, float64].apply(lambda value: value.fillna(0))\n",
    "df_taxi.loc[:, stringObject] = df_taxi.loc[:, stringObject].apply(lambda value: value.fillna(\"\"))"
   ]
  },
  {
   "cell_type": "code",
   "execution_count": 95,
   "id": "10473418",
   "metadata": {},
   "outputs": [
    {
     "data": {
      "text/html": [
       "<div>\n",
       "<style scoped>\n",
       "    .dataframe tbody tr th:only-of-type {\n",
       "        vertical-align: middle;\n",
       "    }\n",
       "\n",
       "    .dataframe tbody tr th {\n",
       "        vertical-align: top;\n",
       "    }\n",
       "\n",
       "    .dataframe thead th {\n",
       "        text-align: right;\n",
       "    }\n",
       "</style>\n",
       "<table border=\"1\" class=\"dataframe\">\n",
       "  <thead>\n",
       "    <tr style=\"text-align: right;\">\n",
       "      <th></th>\n",
       "      <th>amount_value</th>\n",
       "      <th>amount_precision</th>\n",
       "      <th>amount_currency</th>\n",
       "      <th>transaction_info_number</th>\n",
       "      <th>transaction_info_machine</th>\n",
       "      <th>transaction_info_timestamp</th>\n",
       "      <th>transaction_info_country</th>\n",
       "      <th>transaction_info_currency</th>\n",
       "      <th>transaction_info_partner</th>\n",
       "    </tr>\n",
       "  </thead>\n",
       "  <tbody>\n",
       "    <tr>\n",
       "      <th>0</th>\n",
       "      <td>-279000</td>\n",
       "      <td>5</td>\n",
       "      <td>EUR</td>\n",
       "      <td>0.0</td>\n",
       "      <td></td>\n",
       "      <td>0.000000e+00</td>\n",
       "      <td></td>\n",
       "      <td></td>\n",
       "      <td></td>\n",
       "    </tr>\n",
       "    <tr>\n",
       "      <th>1</th>\n",
       "      <td>-1000000</td>\n",
       "      <td>5</td>\n",
       "      <td>EUR</td>\n",
       "      <td>0.0</td>\n",
       "      <td></td>\n",
       "      <td>0.000000e+00</td>\n",
       "      <td></td>\n",
       "      <td></td>\n",
       "      <td></td>\n",
       "    </tr>\n",
       "    <tr>\n",
       "      <th>2</th>\n",
       "      <td>-945000</td>\n",
       "      <td>5</td>\n",
       "      <td>EUR</td>\n",
       "      <td>0.0</td>\n",
       "      <td></td>\n",
       "      <td>0.000000e+00</td>\n",
       "      <td></td>\n",
       "      <td></td>\n",
       "      <td></td>\n",
       "    </tr>\n",
       "    <tr>\n",
       "      <th>3</th>\n",
       "      <td>-1100000</td>\n",
       "      <td>5</td>\n",
       "      <td>EUR</td>\n",
       "      <td>1.0</td>\n",
       "      <td></td>\n",
       "      <td>1.621374e+12</td>\n",
       "      <td>AT</td>\n",
       "      <td>EUR</td>\n",
       "      <td></td>\n",
       "    </tr>\n",
       "    <tr>\n",
       "      <th>4</th>\n",
       "      <td>-556000</td>\n",
       "      <td>5</td>\n",
       "      <td>EUR</td>\n",
       "      <td>0.0</td>\n",
       "      <td></td>\n",
       "      <td>0.000000e+00</td>\n",
       "      <td></td>\n",
       "      <td></td>\n",
       "      <td></td>\n",
       "    </tr>\n",
       "  </tbody>\n",
       "</table>\n",
       "</div>"
      ],
      "text/plain": [
       "   amount_value  amount_precision amount_currency  transaction_info_number  \\\n",
       "0       -279000                 5             EUR                      0.0   \n",
       "1      -1000000                 5             EUR                      0.0   \n",
       "2       -945000                 5             EUR                      0.0   \n",
       "3      -1100000                 5             EUR                      1.0   \n",
       "4       -556000                 5             EUR                      0.0   \n",
       "\n",
       "  transaction_info_machine  transaction_info_timestamp  \\\n",
       "0                                         0.000000e+00   \n",
       "1                                         0.000000e+00   \n",
       "2                                         0.000000e+00   \n",
       "3                                         1.621374e+12   \n",
       "4                                         0.000000e+00   \n",
       "\n",
       "  transaction_info_country transaction_info_currency transaction_info_partner  \n",
       "0                                                                              \n",
       "1                                                                              \n",
       "2                                                                              \n",
       "3                       AT                       EUR                           \n",
       "4                                                                              "
      ]
     },
     "execution_count": 95,
     "metadata": {},
     "output_type": "execute_result"
    }
   ],
   "source": [
    "df_taxi.head()"
   ]
  },
  {
   "cell_type": "markdown",
   "id": "facb52fe",
   "metadata": {},
   "source": [
    "3. Converting date type to datetime"
   ]
  },
  {
   "cell_type": "code",
   "execution_count": 96,
   "id": "902440a9",
   "metadata": {},
   "outputs": [],
   "source": [
    "df_taxi[\"transaction_info_timestamp\"] =  df_taxi[\"transaction_info_timestamp\"].apply(lambda value: \n",
    "                                                                                     pd.to_datetime(value, unit='ms', errors='coerce')\n",
    "                                                                                    if value != 0 else None)"
   ]
  },
  {
   "cell_type": "code",
   "execution_count": 97,
   "id": "167632ea",
   "metadata": {},
   "outputs": [
    {
     "data": {
      "text/html": [
       "<div>\n",
       "<style scoped>\n",
       "    .dataframe tbody tr th:only-of-type {\n",
       "        vertical-align: middle;\n",
       "    }\n",
       "\n",
       "    .dataframe tbody tr th {\n",
       "        vertical-align: top;\n",
       "    }\n",
       "\n",
       "    .dataframe thead th {\n",
       "        text-align: right;\n",
       "    }\n",
       "</style>\n",
       "<table border=\"1\" class=\"dataframe\">\n",
       "  <thead>\n",
       "    <tr style=\"text-align: right;\">\n",
       "      <th></th>\n",
       "      <th>amount_value</th>\n",
       "      <th>amount_precision</th>\n",
       "      <th>amount_currency</th>\n",
       "      <th>transaction_info_number</th>\n",
       "      <th>transaction_info_machine</th>\n",
       "      <th>transaction_info_timestamp</th>\n",
       "      <th>transaction_info_country</th>\n",
       "      <th>transaction_info_currency</th>\n",
       "      <th>transaction_info_partner</th>\n",
       "    </tr>\n",
       "  </thead>\n",
       "  <tbody>\n",
       "    <tr>\n",
       "      <th>0</th>\n",
       "      <td>-279000</td>\n",
       "      <td>5</td>\n",
       "      <td>EUR</td>\n",
       "      <td>0.0</td>\n",
       "      <td></td>\n",
       "      <td>NaT</td>\n",
       "      <td></td>\n",
       "      <td></td>\n",
       "      <td></td>\n",
       "    </tr>\n",
       "    <tr>\n",
       "      <th>1</th>\n",
       "      <td>-1000000</td>\n",
       "      <td>5</td>\n",
       "      <td>EUR</td>\n",
       "      <td>0.0</td>\n",
       "      <td></td>\n",
       "      <td>NaT</td>\n",
       "      <td></td>\n",
       "      <td></td>\n",
       "      <td></td>\n",
       "    </tr>\n",
       "    <tr>\n",
       "      <th>2</th>\n",
       "      <td>-945000</td>\n",
       "      <td>5</td>\n",
       "      <td>EUR</td>\n",
       "      <td>0.0</td>\n",
       "      <td></td>\n",
       "      <td>NaT</td>\n",
       "      <td></td>\n",
       "      <td></td>\n",
       "      <td></td>\n",
       "    </tr>\n",
       "    <tr>\n",
       "      <th>3</th>\n",
       "      <td>-1100000</td>\n",
       "      <td>5</td>\n",
       "      <td>EUR</td>\n",
       "      <td>1.0</td>\n",
       "      <td></td>\n",
       "      <td>2021-05-18 21:34:00</td>\n",
       "      <td>AT</td>\n",
       "      <td>EUR</td>\n",
       "      <td></td>\n",
       "    </tr>\n",
       "    <tr>\n",
       "      <th>4</th>\n",
       "      <td>-556000</td>\n",
       "      <td>5</td>\n",
       "      <td>EUR</td>\n",
       "      <td>0.0</td>\n",
       "      <td></td>\n",
       "      <td>NaT</td>\n",
       "      <td></td>\n",
       "      <td></td>\n",
       "      <td></td>\n",
       "    </tr>\n",
       "  </tbody>\n",
       "</table>\n",
       "</div>"
      ],
      "text/plain": [
       "   amount_value  amount_precision amount_currency  transaction_info_number  \\\n",
       "0       -279000                 5             EUR                      0.0   \n",
       "1      -1000000                 5             EUR                      0.0   \n",
       "2       -945000                 5             EUR                      0.0   \n",
       "3      -1100000                 5             EUR                      1.0   \n",
       "4       -556000                 5             EUR                      0.0   \n",
       "\n",
       "  transaction_info_machine transaction_info_timestamp  \\\n",
       "0                                                 NaT   \n",
       "1                                                 NaT   \n",
       "2                                                 NaT   \n",
       "3                                 2021-05-18 21:34:00   \n",
       "4                                                 NaT   \n",
       "\n",
       "  transaction_info_country transaction_info_currency transaction_info_partner  \n",
       "0                                                                              \n",
       "1                                                                              \n",
       "2                                                                              \n",
       "3                       AT                       EUR                           \n",
       "4                                                                              "
      ]
     },
     "execution_count": 97,
     "metadata": {},
     "output_type": "execute_result"
    }
   ],
   "source": [
    "df_taxi.head()"
   ]
  },
  {
   "cell_type": "markdown",
   "id": "cf19f066",
   "metadata": {},
   "source": [
    "For the analysis, the transaction_info_timestamp is an important information to describe the data. Thus, we will remove all lines that have NaN/NaT/None type in this column."
   ]
  },
  {
   "cell_type": "code",
   "execution_count": 98,
   "id": "e3c66c06",
   "metadata": {},
   "outputs": [],
   "source": [
    "df_taxi.dropna(inplace= True)"
   ]
  },
  {
   "cell_type": "code",
   "execution_count": 99,
   "id": "ba4c39cb",
   "metadata": {},
   "outputs": [
    {
     "data": {
      "text/html": [
       "<div>\n",
       "<style scoped>\n",
       "    .dataframe tbody tr th:only-of-type {\n",
       "        vertical-align: middle;\n",
       "    }\n",
       "\n",
       "    .dataframe tbody tr th {\n",
       "        vertical-align: top;\n",
       "    }\n",
       "\n",
       "    .dataframe thead th {\n",
       "        text-align: right;\n",
       "    }\n",
       "</style>\n",
       "<table border=\"1\" class=\"dataframe\">\n",
       "  <thead>\n",
       "    <tr style=\"text-align: right;\">\n",
       "      <th></th>\n",
       "      <th>amount_value</th>\n",
       "      <th>amount_precision</th>\n",
       "      <th>amount_currency</th>\n",
       "      <th>transaction_info_number</th>\n",
       "      <th>transaction_info_machine</th>\n",
       "      <th>transaction_info_timestamp</th>\n",
       "      <th>transaction_info_country</th>\n",
       "      <th>transaction_info_currency</th>\n",
       "      <th>transaction_info_partner</th>\n",
       "    </tr>\n",
       "  </thead>\n",
       "  <tbody>\n",
       "    <tr>\n",
       "      <th>3</th>\n",
       "      <td>-1100000</td>\n",
       "      <td>5</td>\n",
       "      <td>EUR</td>\n",
       "      <td>1.0</td>\n",
       "      <td></td>\n",
       "      <td>2021-05-18 21:34:00</td>\n",
       "      <td>AT</td>\n",
       "      <td>EUR</td>\n",
       "      <td></td>\n",
       "    </tr>\n",
       "    <tr>\n",
       "      <th>5</th>\n",
       "      <td>-910000</td>\n",
       "      <td>5</td>\n",
       "      <td>EUR</td>\n",
       "      <td>3.0</td>\n",
       "      <td></td>\n",
       "      <td>2021-05-18 15:36:00</td>\n",
       "      <td>AT</td>\n",
       "      <td>EUR</td>\n",
       "      <td></td>\n",
       "    </tr>\n",
       "    <tr>\n",
       "      <th>6</th>\n",
       "      <td>-1400000</td>\n",
       "      <td>5</td>\n",
       "      <td>EUR</td>\n",
       "      <td>2.0</td>\n",
       "      <td></td>\n",
       "      <td>2021-05-18 05:55:00</td>\n",
       "      <td>AT</td>\n",
       "      <td>EUR</td>\n",
       "      <td></td>\n",
       "    </tr>\n",
       "    <tr>\n",
       "      <th>9</th>\n",
       "      <td>-1900000</td>\n",
       "      <td>5</td>\n",
       "      <td>EUR</td>\n",
       "      <td>3.0</td>\n",
       "      <td></td>\n",
       "      <td>2021-05-18 04:49:00</td>\n",
       "      <td>AT</td>\n",
       "      <td>EUR</td>\n",
       "      <td></td>\n",
       "    </tr>\n",
       "    <tr>\n",
       "      <th>10</th>\n",
       "      <td>-2200000</td>\n",
       "      <td>5</td>\n",
       "      <td>EUR</td>\n",
       "      <td>1.0</td>\n",
       "      <td></td>\n",
       "      <td>2021-05-18 05:22:00</td>\n",
       "      <td>AT</td>\n",
       "      <td>EUR</td>\n",
       "      <td></td>\n",
       "    </tr>\n",
       "  </tbody>\n",
       "</table>\n",
       "</div>"
      ],
      "text/plain": [
       "    amount_value  amount_precision amount_currency  transaction_info_number  \\\n",
       "3       -1100000                 5             EUR                      1.0   \n",
       "5        -910000                 5             EUR                      3.0   \n",
       "6       -1400000                 5             EUR                      2.0   \n",
       "9       -1900000                 5             EUR                      3.0   \n",
       "10      -2200000                 5             EUR                      1.0   \n",
       "\n",
       "   transaction_info_machine transaction_info_timestamp  \\\n",
       "3                                  2021-05-18 21:34:00   \n",
       "5                                  2021-05-18 15:36:00   \n",
       "6                                  2021-05-18 05:55:00   \n",
       "9                                  2021-05-18 04:49:00   \n",
       "10                                 2021-05-18 05:22:00   \n",
       "\n",
       "   transaction_info_country transaction_info_currency transaction_info_partner  \n",
       "3                        AT                       EUR                           \n",
       "5                        AT                       EUR                           \n",
       "6                        AT                       EUR                           \n",
       "9                        AT                       EUR                           \n",
       "10                       AT                       EUR                           "
      ]
     },
     "execution_count": 99,
     "metadata": {},
     "output_type": "execute_result"
    }
   ],
   "source": [
    "df_taxi.head()"
   ]
  },
  {
   "cell_type": "markdown",
   "id": "5dc92cf2",
   "metadata": {},
   "source": [
    "4. As described \n",
    "\n",
    "    Money amounts are expressed using two integers: value and in addition\n",
    "    precision which defines how many last digits of value represent currency subunit.\n",
    "    For instance, for currency CHF, value of 5506000 with precision of 5 means the\n",
    "    amount was 55 francs and 6 centimes (i.e. 55.06 CHF).\n",
    "    \n",
    "For achive this format, the amount_value column will be convert to float and it will be moved the float point to the precision described in amount_precision column."
   ]
  },
  {
   "cell_type": "code",
   "execution_count": 100,
   "id": "28f1c4f9",
   "metadata": {},
   "outputs": [],
   "source": [
    "df_taxi[\"amount_value\"] = df_taxi[\"amount_value\"].apply(lambda amount: float(amount))"
   ]
  },
  {
   "cell_type": "code",
   "execution_count": 101,
   "id": "d620097d",
   "metadata": {},
   "outputs": [],
   "source": [
    "df_taxi[\"amount_value\"] = df_taxi[\"amount_value\"]*np.float_power(10, -df_taxi[\"amount_precision\"])"
   ]
  },
  {
   "cell_type": "markdown",
   "id": "38d8ef17",
   "metadata": {},
   "source": [
    "Checking the data after the processing amount"
   ]
  },
  {
   "cell_type": "code",
   "execution_count": 102,
   "id": "bb9a5f00",
   "metadata": {},
   "outputs": [
    {
     "data": {
      "text/html": [
       "<div>\n",
       "<style scoped>\n",
       "    .dataframe tbody tr th:only-of-type {\n",
       "        vertical-align: middle;\n",
       "    }\n",
       "\n",
       "    .dataframe tbody tr th {\n",
       "        vertical-align: top;\n",
       "    }\n",
       "\n",
       "    .dataframe thead th {\n",
       "        text-align: right;\n",
       "    }\n",
       "</style>\n",
       "<table border=\"1\" class=\"dataframe\">\n",
       "  <thead>\n",
       "    <tr style=\"text-align: right;\">\n",
       "      <th></th>\n",
       "      <th>amount_value</th>\n",
       "      <th>amount_precision</th>\n",
       "      <th>amount_currency</th>\n",
       "      <th>transaction_info_number</th>\n",
       "      <th>transaction_info_machine</th>\n",
       "      <th>transaction_info_timestamp</th>\n",
       "      <th>transaction_info_country</th>\n",
       "      <th>transaction_info_currency</th>\n",
       "      <th>transaction_info_partner</th>\n",
       "    </tr>\n",
       "  </thead>\n",
       "  <tbody>\n",
       "    <tr>\n",
       "      <th>3</th>\n",
       "      <td>-11.0</td>\n",
       "      <td>5</td>\n",
       "      <td>EUR</td>\n",
       "      <td>1.0</td>\n",
       "      <td></td>\n",
       "      <td>2021-05-18 21:34:00</td>\n",
       "      <td>AT</td>\n",
       "      <td>EUR</td>\n",
       "      <td></td>\n",
       "    </tr>\n",
       "    <tr>\n",
       "      <th>5</th>\n",
       "      <td>-9.1</td>\n",
       "      <td>5</td>\n",
       "      <td>EUR</td>\n",
       "      <td>3.0</td>\n",
       "      <td></td>\n",
       "      <td>2021-05-18 15:36:00</td>\n",
       "      <td>AT</td>\n",
       "      <td>EUR</td>\n",
       "      <td></td>\n",
       "    </tr>\n",
       "    <tr>\n",
       "      <th>6</th>\n",
       "      <td>-14.0</td>\n",
       "      <td>5</td>\n",
       "      <td>EUR</td>\n",
       "      <td>2.0</td>\n",
       "      <td></td>\n",
       "      <td>2021-05-18 05:55:00</td>\n",
       "      <td>AT</td>\n",
       "      <td>EUR</td>\n",
       "      <td></td>\n",
       "    </tr>\n",
       "    <tr>\n",
       "      <th>9</th>\n",
       "      <td>-19.0</td>\n",
       "      <td>5</td>\n",
       "      <td>EUR</td>\n",
       "      <td>3.0</td>\n",
       "      <td></td>\n",
       "      <td>2021-05-18 04:49:00</td>\n",
       "      <td>AT</td>\n",
       "      <td>EUR</td>\n",
       "      <td></td>\n",
       "    </tr>\n",
       "    <tr>\n",
       "      <th>10</th>\n",
       "      <td>-22.0</td>\n",
       "      <td>5</td>\n",
       "      <td>EUR</td>\n",
       "      <td>1.0</td>\n",
       "      <td></td>\n",
       "      <td>2021-05-18 05:22:00</td>\n",
       "      <td>AT</td>\n",
       "      <td>EUR</td>\n",
       "      <td></td>\n",
       "    </tr>\n",
       "  </tbody>\n",
       "</table>\n",
       "</div>"
      ],
      "text/plain": [
       "    amount_value  amount_precision amount_currency  transaction_info_number  \\\n",
       "3          -11.0                 5             EUR                      1.0   \n",
       "5           -9.1                 5             EUR                      3.0   \n",
       "6          -14.0                 5             EUR                      2.0   \n",
       "9          -19.0                 5             EUR                      3.0   \n",
       "10         -22.0                 5             EUR                      1.0   \n",
       "\n",
       "   transaction_info_machine transaction_info_timestamp  \\\n",
       "3                                  2021-05-18 21:34:00   \n",
       "5                                  2021-05-18 15:36:00   \n",
       "6                                  2021-05-18 05:55:00   \n",
       "9                                  2021-05-18 04:49:00   \n",
       "10                                 2021-05-18 05:22:00   \n",
       "\n",
       "   transaction_info_country transaction_info_currency transaction_info_partner  \n",
       "3                        AT                       EUR                           \n",
       "5                        AT                       EUR                           \n",
       "6                        AT                       EUR                           \n",
       "9                        AT                       EUR                           \n",
       "10                       AT                       EUR                           "
      ]
     },
     "execution_count": 102,
     "metadata": {},
     "output_type": "execute_result"
    }
   ],
   "source": [
    "df_taxi.head()"
   ]
  },
  {
   "cell_type": "markdown",
   "id": "82ec9f9a",
   "metadata": {},
   "source": [
    "5. Adds a new columns named \"day_of_the_week\". It will identifies the day of the week in \"transaction_info_timestamp\""
   ]
  },
  {
   "cell_type": "code",
   "execution_count": 103,
   "id": "cb4e6d47",
   "metadata": {},
   "outputs": [],
   "source": [
    "df_taxi[\"day_of_the_week\"] = df_taxi[\"transaction_info_timestamp\"].apply(lambda date: calendar.day_name[date.weekday()])"
   ]
  },
  {
   "cell_type": "code",
   "execution_count": 104,
   "id": "c00d3b35",
   "metadata": {},
   "outputs": [
    {
     "data": {
      "text/html": [
       "<div>\n",
       "<style scoped>\n",
       "    .dataframe tbody tr th:only-of-type {\n",
       "        vertical-align: middle;\n",
       "    }\n",
       "\n",
       "    .dataframe tbody tr th {\n",
       "        vertical-align: top;\n",
       "    }\n",
       "\n",
       "    .dataframe thead th {\n",
       "        text-align: right;\n",
       "    }\n",
       "</style>\n",
       "<table border=\"1\" class=\"dataframe\">\n",
       "  <thead>\n",
       "    <tr style=\"text-align: right;\">\n",
       "      <th></th>\n",
       "      <th>amount_value</th>\n",
       "      <th>amount_precision</th>\n",
       "      <th>amount_currency</th>\n",
       "      <th>transaction_info_number</th>\n",
       "      <th>transaction_info_machine</th>\n",
       "      <th>transaction_info_timestamp</th>\n",
       "      <th>transaction_info_country</th>\n",
       "      <th>transaction_info_currency</th>\n",
       "      <th>transaction_info_partner</th>\n",
       "      <th>day_of_the_week</th>\n",
       "    </tr>\n",
       "  </thead>\n",
       "  <tbody>\n",
       "    <tr>\n",
       "      <th>3</th>\n",
       "      <td>-11.0</td>\n",
       "      <td>5</td>\n",
       "      <td>EUR</td>\n",
       "      <td>1.0</td>\n",
       "      <td></td>\n",
       "      <td>2021-05-18 21:34:00</td>\n",
       "      <td>AT</td>\n",
       "      <td>EUR</td>\n",
       "      <td></td>\n",
       "      <td>Tuesday</td>\n",
       "    </tr>\n",
       "    <tr>\n",
       "      <th>5</th>\n",
       "      <td>-9.1</td>\n",
       "      <td>5</td>\n",
       "      <td>EUR</td>\n",
       "      <td>3.0</td>\n",
       "      <td></td>\n",
       "      <td>2021-05-18 15:36:00</td>\n",
       "      <td>AT</td>\n",
       "      <td>EUR</td>\n",
       "      <td></td>\n",
       "      <td>Tuesday</td>\n",
       "    </tr>\n",
       "    <tr>\n",
       "      <th>6</th>\n",
       "      <td>-14.0</td>\n",
       "      <td>5</td>\n",
       "      <td>EUR</td>\n",
       "      <td>2.0</td>\n",
       "      <td></td>\n",
       "      <td>2021-05-18 05:55:00</td>\n",
       "      <td>AT</td>\n",
       "      <td>EUR</td>\n",
       "      <td></td>\n",
       "      <td>Tuesday</td>\n",
       "    </tr>\n",
       "    <tr>\n",
       "      <th>9</th>\n",
       "      <td>-19.0</td>\n",
       "      <td>5</td>\n",
       "      <td>EUR</td>\n",
       "      <td>3.0</td>\n",
       "      <td></td>\n",
       "      <td>2021-05-18 04:49:00</td>\n",
       "      <td>AT</td>\n",
       "      <td>EUR</td>\n",
       "      <td></td>\n",
       "      <td>Tuesday</td>\n",
       "    </tr>\n",
       "    <tr>\n",
       "      <th>10</th>\n",
       "      <td>-22.0</td>\n",
       "      <td>5</td>\n",
       "      <td>EUR</td>\n",
       "      <td>1.0</td>\n",
       "      <td></td>\n",
       "      <td>2021-05-18 05:22:00</td>\n",
       "      <td>AT</td>\n",
       "      <td>EUR</td>\n",
       "      <td></td>\n",
       "      <td>Tuesday</td>\n",
       "    </tr>\n",
       "  </tbody>\n",
       "</table>\n",
       "</div>"
      ],
      "text/plain": [
       "    amount_value  amount_precision amount_currency  transaction_info_number  \\\n",
       "3          -11.0                 5             EUR                      1.0   \n",
       "5           -9.1                 5             EUR                      3.0   \n",
       "6          -14.0                 5             EUR                      2.0   \n",
       "9          -19.0                 5             EUR                      3.0   \n",
       "10         -22.0                 5             EUR                      1.0   \n",
       "\n",
       "   transaction_info_machine transaction_info_timestamp  \\\n",
       "3                                  2021-05-18 21:34:00   \n",
       "5                                  2021-05-18 15:36:00   \n",
       "6                                  2021-05-18 05:55:00   \n",
       "9                                  2021-05-18 04:49:00   \n",
       "10                                 2021-05-18 05:22:00   \n",
       "\n",
       "   transaction_info_country transaction_info_currency  \\\n",
       "3                        AT                       EUR   \n",
       "5                        AT                       EUR   \n",
       "6                        AT                       EUR   \n",
       "9                        AT                       EUR   \n",
       "10                       AT                       EUR   \n",
       "\n",
       "   transaction_info_partner day_of_the_week  \n",
       "3                                   Tuesday  \n",
       "5                                   Tuesday  \n",
       "6                                   Tuesday  \n",
       "9                                   Tuesday  \n",
       "10                                  Tuesday  "
      ]
     },
     "execution_count": 104,
     "metadata": {},
     "output_type": "execute_result"
    }
   ],
   "source": [
    "df_taxi.head()"
   ]
  },
  {
   "cell_type": "code",
   "execution_count": 105,
   "id": "693beef9",
   "metadata": {},
   "outputs": [
    {
     "name": "stdout",
     "output_type": "stream",
     "text": [
      "Dataframe shape after processing: (12019, 10)\n",
      "Information after processing: 11848 rows\n"
     ]
    }
   ],
   "source": [
    "df_after = df_taxi.shape\n",
    "diff = (df_before[0] - df_after[0])\n",
    "\n",
    "print(f\"Dataframe shape after processing: {df_after}\")\n",
    "print(f\"Information after processing: {diff} rows\")"
   ]
  },
  {
   "cell_type": "markdown",
   "id": "44f9bae7",
   "metadata": {},
   "source": [
    "For better analysis, we will check if \"amount_value\" have any positive value. Thus, if false, it will convert all values to positive ones. This is will help to visualize the future plots."
   ]
  },
  {
   "cell_type": "markdown",
   "id": "2d4611ec",
   "metadata": {},
   "source": [
    "- Checks for any positive values in \"amount_value\""
   ]
  },
  {
   "cell_type": "code",
   "execution_count": 106,
   "id": "c9d6bbf4",
   "metadata": {},
   "outputs": [
    {
     "data": {
      "text/plain": [
       "False"
      ]
     },
     "execution_count": 106,
     "metadata": {},
     "output_type": "execute_result"
    }
   ],
   "source": [
    "(df_taxi[\"amount_value\"] > 0).values.any()"
   ]
  },
  {
   "cell_type": "code",
   "execution_count": 107,
   "id": "173aea8e",
   "metadata": {},
   "outputs": [],
   "source": [
    "df_taxi[\"amount_value\"] = df_taxi[\"amount_value\"]*(-1)"
   ]
  },
  {
   "cell_type": "code",
   "execution_count": 108,
   "id": "46a12940",
   "metadata": {},
   "outputs": [
    {
     "data": {
      "text/html": [
       "<div>\n",
       "<style scoped>\n",
       "    .dataframe tbody tr th:only-of-type {\n",
       "        vertical-align: middle;\n",
       "    }\n",
       "\n",
       "    .dataframe tbody tr th {\n",
       "        vertical-align: top;\n",
       "    }\n",
       "\n",
       "    .dataframe thead th {\n",
       "        text-align: right;\n",
       "    }\n",
       "</style>\n",
       "<table border=\"1\" class=\"dataframe\">\n",
       "  <thead>\n",
       "    <tr style=\"text-align: right;\">\n",
       "      <th></th>\n",
       "      <th>amount_value</th>\n",
       "      <th>amount_precision</th>\n",
       "      <th>amount_currency</th>\n",
       "      <th>transaction_info_number</th>\n",
       "      <th>transaction_info_machine</th>\n",
       "      <th>transaction_info_timestamp</th>\n",
       "      <th>transaction_info_country</th>\n",
       "      <th>transaction_info_currency</th>\n",
       "      <th>transaction_info_partner</th>\n",
       "      <th>day_of_the_week</th>\n",
       "    </tr>\n",
       "  </thead>\n",
       "  <tbody>\n",
       "    <tr>\n",
       "      <th>3</th>\n",
       "      <td>11.0</td>\n",
       "      <td>5</td>\n",
       "      <td>EUR</td>\n",
       "      <td>1.0</td>\n",
       "      <td></td>\n",
       "      <td>2021-05-18 21:34:00</td>\n",
       "      <td>AT</td>\n",
       "      <td>EUR</td>\n",
       "      <td></td>\n",
       "      <td>Tuesday</td>\n",
       "    </tr>\n",
       "    <tr>\n",
       "      <th>5</th>\n",
       "      <td>9.1</td>\n",
       "      <td>5</td>\n",
       "      <td>EUR</td>\n",
       "      <td>3.0</td>\n",
       "      <td></td>\n",
       "      <td>2021-05-18 15:36:00</td>\n",
       "      <td>AT</td>\n",
       "      <td>EUR</td>\n",
       "      <td></td>\n",
       "      <td>Tuesday</td>\n",
       "    </tr>\n",
       "    <tr>\n",
       "      <th>6</th>\n",
       "      <td>14.0</td>\n",
       "      <td>5</td>\n",
       "      <td>EUR</td>\n",
       "      <td>2.0</td>\n",
       "      <td></td>\n",
       "      <td>2021-05-18 05:55:00</td>\n",
       "      <td>AT</td>\n",
       "      <td>EUR</td>\n",
       "      <td></td>\n",
       "      <td>Tuesday</td>\n",
       "    </tr>\n",
       "    <tr>\n",
       "      <th>9</th>\n",
       "      <td>19.0</td>\n",
       "      <td>5</td>\n",
       "      <td>EUR</td>\n",
       "      <td>3.0</td>\n",
       "      <td></td>\n",
       "      <td>2021-05-18 04:49:00</td>\n",
       "      <td>AT</td>\n",
       "      <td>EUR</td>\n",
       "      <td></td>\n",
       "      <td>Tuesday</td>\n",
       "    </tr>\n",
       "    <tr>\n",
       "      <th>10</th>\n",
       "      <td>22.0</td>\n",
       "      <td>5</td>\n",
       "      <td>EUR</td>\n",
       "      <td>1.0</td>\n",
       "      <td></td>\n",
       "      <td>2021-05-18 05:22:00</td>\n",
       "      <td>AT</td>\n",
       "      <td>EUR</td>\n",
       "      <td></td>\n",
       "      <td>Tuesday</td>\n",
       "    </tr>\n",
       "  </tbody>\n",
       "</table>\n",
       "</div>"
      ],
      "text/plain": [
       "    amount_value  amount_precision amount_currency  transaction_info_number  \\\n",
       "3           11.0                 5             EUR                      1.0   \n",
       "5            9.1                 5             EUR                      3.0   \n",
       "6           14.0                 5             EUR                      2.0   \n",
       "9           19.0                 5             EUR                      3.0   \n",
       "10          22.0                 5             EUR                      1.0   \n",
       "\n",
       "   transaction_info_machine transaction_info_timestamp  \\\n",
       "3                                  2021-05-18 21:34:00   \n",
       "5                                  2021-05-18 15:36:00   \n",
       "6                                  2021-05-18 05:55:00   \n",
       "9                                  2021-05-18 04:49:00   \n",
       "10                                 2021-05-18 05:22:00   \n",
       "\n",
       "   transaction_info_country transaction_info_currency  \\\n",
       "3                        AT                       EUR   \n",
       "5                        AT                       EUR   \n",
       "6                        AT                       EUR   \n",
       "9                        AT                       EUR   \n",
       "10                       AT                       EUR   \n",
       "\n",
       "   transaction_info_partner day_of_the_week  \n",
       "3                                   Tuesday  \n",
       "5                                   Tuesday  \n",
       "6                                   Tuesday  \n",
       "9                                   Tuesday  \n",
       "10                                  Tuesday  "
      ]
     },
     "execution_count": 108,
     "metadata": {},
     "output_type": "execute_result"
    }
   ],
   "source": [
    "df_taxi.head()"
   ]
  },
  {
   "cell_type": "markdown",
   "id": "70b6c572",
   "metadata": {},
   "source": [
    "Checks the date period for the dataset after processing:"
   ]
  },
  {
   "cell_type": "code",
   "execution_count": 127,
   "id": "f3c1b8f7",
   "metadata": {},
   "outputs": [
    {
     "name": "stdout",
     "output_type": "stream",
     "text": [
      "Date init: 2021-05-17 22:03:00\n",
      "Date ends: 2021-05-31 21:55:00\n"
     ]
    }
   ],
   "source": [
    "min_dt = min(df_taxi.transaction_info_timestamp)\n",
    "max_dt = max(df_taxi.transaction_info_timestamp)\n",
    "\n",
    "print(f\"Date init: {min_dt}\\nDate ends: {max_dt}\")"
   ]
  },
  {
   "cell_type": "markdown",
   "id": "3e2c9a51",
   "metadata": {},
   "source": [
    "As we have information for a half month, let's agreggate then:"
   ]
  },
  {
   "cell_type": "markdown",
   "id": "3de1d2a8",
   "metadata": {},
   "source": [
    "To check when are the taxi services most called, We will group the data by day_of_the_week and transaction hour"
   ]
  },
  {
   "cell_type": "code",
   "execution_count": 128,
   "id": "c2b6e415",
   "metadata": {},
   "outputs": [],
   "source": [
    "amount_per_hour_per_day = df_taxi.groupby([df_taxi['transaction_info_timestamp'].dt.hour,\n",
    "                                          df_taxi['day_of_the_week']]\n",
    "                                         )['amount_value'].sum().unstack(fill_value=0)"
   ]
  },
  {
   "cell_type": "code",
   "execution_count": 129,
   "id": "26d6c848",
   "metadata": {},
   "outputs": [
    {
     "data": {
      "text/html": [
       "<div>\n",
       "<style scoped>\n",
       "    .dataframe tbody tr th:only-of-type {\n",
       "        vertical-align: middle;\n",
       "    }\n",
       "\n",
       "    .dataframe tbody tr th {\n",
       "        vertical-align: top;\n",
       "    }\n",
       "\n",
       "    .dataframe thead th {\n",
       "        text-align: right;\n",
       "    }\n",
       "</style>\n",
       "<table border=\"1\" class=\"dataframe\">\n",
       "  <thead>\n",
       "    <tr style=\"text-align: right;\">\n",
       "      <th>day_of_the_week</th>\n",
       "      <th>Friday</th>\n",
       "      <th>Monday</th>\n",
       "      <th>Saturday</th>\n",
       "      <th>Sunday</th>\n",
       "      <th>Thursday</th>\n",
       "      <th>Tuesday</th>\n",
       "      <th>Wednesday</th>\n",
       "    </tr>\n",
       "    <tr>\n",
       "      <th>transaction_info_timestamp</th>\n",
       "      <th></th>\n",
       "      <th></th>\n",
       "      <th></th>\n",
       "      <th></th>\n",
       "      <th></th>\n",
       "      <th></th>\n",
       "      <th></th>\n",
       "    </tr>\n",
       "  </thead>\n",
       "  <tbody>\n",
       "    <tr>\n",
       "      <th>0</th>\n",
       "      <td>586.80</td>\n",
       "      <td>672.36</td>\n",
       "      <td>3424.87</td>\n",
       "      <td>3021.07</td>\n",
       "      <td>541.30</td>\n",
       "      <td>391.30</td>\n",
       "      <td>208.40</td>\n",
       "    </tr>\n",
       "    <tr>\n",
       "      <th>1</th>\n",
       "      <td>563.71</td>\n",
       "      <td>642.89</td>\n",
       "      <td>2237.64</td>\n",
       "      <td>2137.07</td>\n",
       "      <td>485.28</td>\n",
       "      <td>272.90</td>\n",
       "      <td>263.55</td>\n",
       "    </tr>\n",
       "    <tr>\n",
       "      <th>2</th>\n",
       "      <td>394.98</td>\n",
       "      <td>282.50</td>\n",
       "      <td>1398.27</td>\n",
       "      <td>1538.70</td>\n",
       "      <td>293.20</td>\n",
       "      <td>243.69</td>\n",
       "      <td>181.80</td>\n",
       "    </tr>\n",
       "    <tr>\n",
       "      <th>3</th>\n",
       "      <td>746.69</td>\n",
       "      <td>390.90</td>\n",
       "      <td>811.40</td>\n",
       "      <td>702.86</td>\n",
       "      <td>859.40</td>\n",
       "      <td>436.60</td>\n",
       "      <td>509.00</td>\n",
       "    </tr>\n",
       "    <tr>\n",
       "      <th>4</th>\n",
       "      <td>975.91</td>\n",
       "      <td>810.70</td>\n",
       "      <td>633.70</td>\n",
       "      <td>734.84</td>\n",
       "      <td>742.33</td>\n",
       "      <td>809.00</td>\n",
       "      <td>873.12</td>\n",
       "    </tr>\n",
       "  </tbody>\n",
       "</table>\n",
       "</div>"
      ],
      "text/plain": [
       "day_of_the_week             Friday  Monday  Saturday   Sunday  Thursday  \\\n",
       "transaction_info_timestamp                                                \n",
       "0                           586.80  672.36   3424.87  3021.07    541.30   \n",
       "1                           563.71  642.89   2237.64  2137.07    485.28   \n",
       "2                           394.98  282.50   1398.27  1538.70    293.20   \n",
       "3                           746.69  390.90    811.40   702.86    859.40   \n",
       "4                           975.91  810.70    633.70   734.84    742.33   \n",
       "\n",
       "day_of_the_week             Tuesday  Wednesday  \n",
       "transaction_info_timestamp                      \n",
       "0                            391.30     208.40  \n",
       "1                            272.90     263.55  \n",
       "2                            243.69     181.80  \n",
       "3                            436.60     509.00  \n",
       "4                            809.00     873.12  "
      ]
     },
     "execution_count": 129,
     "metadata": {},
     "output_type": "execute_result"
    }
   ],
   "source": [
    "amount_per_hour_per_day.head()"
   ]
  },
  {
   "cell_type": "markdown",
   "id": "aa927843",
   "metadata": {},
   "source": [
    "For better identificatrion, let's change the multi index names"
   ]
  },
  {
   "cell_type": "code",
   "execution_count": 130,
   "id": "710a145f",
   "metadata": {},
   "outputs": [],
   "source": [
    "amount_per_hour_per_day.index.names = ['Hour']"
   ]
  },
  {
   "cell_type": "code",
   "execution_count": 131,
   "id": "0b2f75ce",
   "metadata": {},
   "outputs": [],
   "source": [
    "amount_per_hour_per_day.columns.names = [\"Index\"]"
   ]
  },
  {
   "cell_type": "code",
   "execution_count": 132,
   "id": "ef4a0071",
   "metadata": {},
   "outputs": [
    {
     "data": {
      "text/html": [
       "<div>\n",
       "<style scoped>\n",
       "    .dataframe tbody tr th:only-of-type {\n",
       "        vertical-align: middle;\n",
       "    }\n",
       "\n",
       "    .dataframe tbody tr th {\n",
       "        vertical-align: top;\n",
       "    }\n",
       "\n",
       "    .dataframe thead th {\n",
       "        text-align: right;\n",
       "    }\n",
       "</style>\n",
       "<table border=\"1\" class=\"dataframe\">\n",
       "  <thead>\n",
       "    <tr style=\"text-align: right;\">\n",
       "      <th>Index</th>\n",
       "      <th>Friday</th>\n",
       "      <th>Monday</th>\n",
       "      <th>Saturday</th>\n",
       "      <th>Sunday</th>\n",
       "      <th>Thursday</th>\n",
       "      <th>Tuesday</th>\n",
       "      <th>Wednesday</th>\n",
       "    </tr>\n",
       "    <tr>\n",
       "      <th>Hour</th>\n",
       "      <th></th>\n",
       "      <th></th>\n",
       "      <th></th>\n",
       "      <th></th>\n",
       "      <th></th>\n",
       "      <th></th>\n",
       "      <th></th>\n",
       "    </tr>\n",
       "  </thead>\n",
       "  <tbody>\n",
       "    <tr>\n",
       "      <th>0</th>\n",
       "      <td>586.80</td>\n",
       "      <td>672.36</td>\n",
       "      <td>3424.87</td>\n",
       "      <td>3021.07</td>\n",
       "      <td>541.30</td>\n",
       "      <td>391.30</td>\n",
       "      <td>208.40</td>\n",
       "    </tr>\n",
       "    <tr>\n",
       "      <th>1</th>\n",
       "      <td>563.71</td>\n",
       "      <td>642.89</td>\n",
       "      <td>2237.64</td>\n",
       "      <td>2137.07</td>\n",
       "      <td>485.28</td>\n",
       "      <td>272.90</td>\n",
       "      <td>263.55</td>\n",
       "    </tr>\n",
       "    <tr>\n",
       "      <th>2</th>\n",
       "      <td>394.98</td>\n",
       "      <td>282.50</td>\n",
       "      <td>1398.27</td>\n",
       "      <td>1538.70</td>\n",
       "      <td>293.20</td>\n",
       "      <td>243.69</td>\n",
       "      <td>181.80</td>\n",
       "    </tr>\n",
       "    <tr>\n",
       "      <th>3</th>\n",
       "      <td>746.69</td>\n",
       "      <td>390.90</td>\n",
       "      <td>811.40</td>\n",
       "      <td>702.86</td>\n",
       "      <td>859.40</td>\n",
       "      <td>436.60</td>\n",
       "      <td>509.00</td>\n",
       "    </tr>\n",
       "    <tr>\n",
       "      <th>4</th>\n",
       "      <td>975.91</td>\n",
       "      <td>810.70</td>\n",
       "      <td>633.70</td>\n",
       "      <td>734.84</td>\n",
       "      <td>742.33</td>\n",
       "      <td>809.00</td>\n",
       "      <td>873.12</td>\n",
       "    </tr>\n",
       "  </tbody>\n",
       "</table>\n",
       "</div>"
      ],
      "text/plain": [
       "Index  Friday  Monday  Saturday   Sunday  Thursday  Tuesday  Wednesday\n",
       "Hour                                                                  \n",
       "0      586.80  672.36   3424.87  3021.07    541.30   391.30     208.40\n",
       "1      563.71  642.89   2237.64  2137.07    485.28   272.90     263.55\n",
       "2      394.98  282.50   1398.27  1538.70    293.20   243.69     181.80\n",
       "3      746.69  390.90    811.40   702.86    859.40   436.60     509.00\n",
       "4      975.91  810.70    633.70   734.84    742.33   809.00     873.12"
      ]
     },
     "execution_count": 132,
     "metadata": {},
     "output_type": "execute_result"
    }
   ],
   "source": [
    "amount_per_hour_per_day.head()"
   ]
  },
  {
   "cell_type": "markdown",
   "id": "672d133e",
   "metadata": {},
   "source": [
    "For this case, the expression <i>df_taxi['transaction_info_timestamp'].dt.hour</i> will consider the hour of the transaction. Thus, our analysis will user \"amount per hour per day\" agreggation. \n",
    "\n",
    "Tip: the index is the same as the hour column information. Them, reseting the index, we will have the column hour"
   ]
  },
  {
   "cell_type": "code",
   "execution_count": 133,
   "id": "3ffca345",
   "metadata": {},
   "outputs": [],
   "source": [
    "amount_per_hour_per_day.reset_index(level = [\"Hour\"], inplace = True)"
   ]
  },
  {
   "cell_type": "code",
   "execution_count": 134,
   "id": "8a21cc82",
   "metadata": {},
   "outputs": [
    {
     "data": {
      "text/html": [
       "<div>\n",
       "<style scoped>\n",
       "    .dataframe tbody tr th:only-of-type {\n",
       "        vertical-align: middle;\n",
       "    }\n",
       "\n",
       "    .dataframe tbody tr th {\n",
       "        vertical-align: top;\n",
       "    }\n",
       "\n",
       "    .dataframe thead th {\n",
       "        text-align: right;\n",
       "    }\n",
       "</style>\n",
       "<table border=\"1\" class=\"dataframe\">\n",
       "  <thead>\n",
       "    <tr style=\"text-align: right;\">\n",
       "      <th>Index</th>\n",
       "      <th>Hour</th>\n",
       "      <th>Friday</th>\n",
       "      <th>Monday</th>\n",
       "      <th>Saturday</th>\n",
       "      <th>Sunday</th>\n",
       "      <th>Thursday</th>\n",
       "      <th>Tuesday</th>\n",
       "      <th>Wednesday</th>\n",
       "    </tr>\n",
       "  </thead>\n",
       "  <tbody>\n",
       "    <tr>\n",
       "      <th>0</th>\n",
       "      <td>0</td>\n",
       "      <td>586.80</td>\n",
       "      <td>672.36</td>\n",
       "      <td>3424.87</td>\n",
       "      <td>3021.07</td>\n",
       "      <td>541.30</td>\n",
       "      <td>391.30</td>\n",
       "      <td>208.40</td>\n",
       "    </tr>\n",
       "    <tr>\n",
       "      <th>1</th>\n",
       "      <td>1</td>\n",
       "      <td>563.71</td>\n",
       "      <td>642.89</td>\n",
       "      <td>2237.64</td>\n",
       "      <td>2137.07</td>\n",
       "      <td>485.28</td>\n",
       "      <td>272.90</td>\n",
       "      <td>263.55</td>\n",
       "    </tr>\n",
       "    <tr>\n",
       "      <th>2</th>\n",
       "      <td>2</td>\n",
       "      <td>394.98</td>\n",
       "      <td>282.50</td>\n",
       "      <td>1398.27</td>\n",
       "      <td>1538.70</td>\n",
       "      <td>293.20</td>\n",
       "      <td>243.69</td>\n",
       "      <td>181.80</td>\n",
       "    </tr>\n",
       "    <tr>\n",
       "      <th>3</th>\n",
       "      <td>3</td>\n",
       "      <td>746.69</td>\n",
       "      <td>390.90</td>\n",
       "      <td>811.40</td>\n",
       "      <td>702.86</td>\n",
       "      <td>859.40</td>\n",
       "      <td>436.60</td>\n",
       "      <td>509.00</td>\n",
       "    </tr>\n",
       "    <tr>\n",
       "      <th>4</th>\n",
       "      <td>4</td>\n",
       "      <td>975.91</td>\n",
       "      <td>810.70</td>\n",
       "      <td>633.70</td>\n",
       "      <td>734.84</td>\n",
       "      <td>742.33</td>\n",
       "      <td>809.00</td>\n",
       "      <td>873.12</td>\n",
       "    </tr>\n",
       "  </tbody>\n",
       "</table>\n",
       "</div>"
      ],
      "text/plain": [
       "Index  Hour  Friday  Monday  Saturday   Sunday  Thursday  Tuesday  Wednesday\n",
       "0         0  586.80  672.36   3424.87  3021.07    541.30   391.30     208.40\n",
       "1         1  563.71  642.89   2237.64  2137.07    485.28   272.90     263.55\n",
       "2         2  394.98  282.50   1398.27  1538.70    293.20   243.69     181.80\n",
       "3         3  746.69  390.90    811.40   702.86    859.40   436.60     509.00\n",
       "4         4  975.91  810.70    633.70   734.84    742.33   809.00     873.12"
      ]
     },
     "execution_count": 134,
     "metadata": {},
     "output_type": "execute_result"
    }
   ],
   "source": [
    "amount_per_hour_per_day.head()"
   ]
  },
  {
   "cell_type": "markdown",
   "id": "8ce3630c",
   "metadata": {},
   "source": [
    "Converts the int identification for the hour to time format. We will use it as a dimention information type for future analysis."
   ]
  },
  {
   "cell_type": "code",
   "execution_count": 135,
   "id": "63143913",
   "metadata": {},
   "outputs": [],
   "source": [
    "fat_hour = pd.DataFrame(amount_per_hour_per_day[\"Hour\"].apply(lambda hour: time(hour).strftime(\"%I:00 %p\")))"
   ]
  },
  {
   "cell_type": "code",
   "execution_count": 136,
   "id": "f61ed176",
   "metadata": {},
   "outputs": [
    {
     "data": {
      "text/html": [
       "<div>\n",
       "<style scoped>\n",
       "    .dataframe tbody tr th:only-of-type {\n",
       "        vertical-align: middle;\n",
       "    }\n",
       "\n",
       "    .dataframe tbody tr th {\n",
       "        vertical-align: top;\n",
       "    }\n",
       "\n",
       "    .dataframe thead th {\n",
       "        text-align: right;\n",
       "    }\n",
       "</style>\n",
       "<table border=\"1\" class=\"dataframe\">\n",
       "  <thead>\n",
       "    <tr style=\"text-align: right;\">\n",
       "      <th></th>\n",
       "      <th>Hour</th>\n",
       "    </tr>\n",
       "  </thead>\n",
       "  <tbody>\n",
       "    <tr>\n",
       "      <th>0</th>\n",
       "      <td>12:00 AM</td>\n",
       "    </tr>\n",
       "    <tr>\n",
       "      <th>1</th>\n",
       "      <td>01:00 AM</td>\n",
       "    </tr>\n",
       "    <tr>\n",
       "      <th>2</th>\n",
       "      <td>02:00 AM</td>\n",
       "    </tr>\n",
       "    <tr>\n",
       "      <th>3</th>\n",
       "      <td>03:00 AM</td>\n",
       "    </tr>\n",
       "    <tr>\n",
       "      <th>4</th>\n",
       "      <td>04:00 AM</td>\n",
       "    </tr>\n",
       "  </tbody>\n",
       "</table>\n",
       "</div>"
      ],
      "text/plain": [
       "       Hour\n",
       "0  12:00 AM\n",
       "1  01:00 AM\n",
       "2  02:00 AM\n",
       "3  03:00 AM\n",
       "4  04:00 AM"
      ]
     },
     "execution_count": 136,
     "metadata": {},
     "output_type": "execute_result"
    }
   ],
   "source": [
    "fat_hour.head()"
   ]
  },
  {
   "cell_type": "markdown",
   "id": "65eea359",
   "metadata": {},
   "source": [
    "With this new dataframe, we will drop the Hour column from the fat dataframe amount_per_hour_per_day"
   ]
  },
  {
   "cell_type": "code",
   "execution_count": 137,
   "id": "f052e90c",
   "metadata": {},
   "outputs": [],
   "source": [
    "amount_per_hour_per_day.drop(\"Hour\", axis = 1, inplace = True)"
   ]
  },
  {
   "cell_type": "code",
   "execution_count": 138,
   "id": "44087944",
   "metadata": {},
   "outputs": [
    {
     "data": {
      "text/html": [
       "<div>\n",
       "<style scoped>\n",
       "    .dataframe tbody tr th:only-of-type {\n",
       "        vertical-align: middle;\n",
       "    }\n",
       "\n",
       "    .dataframe tbody tr th {\n",
       "        vertical-align: top;\n",
       "    }\n",
       "\n",
       "    .dataframe thead th {\n",
       "        text-align: right;\n",
       "    }\n",
       "</style>\n",
       "<table border=\"1\" class=\"dataframe\">\n",
       "  <thead>\n",
       "    <tr style=\"text-align: right;\">\n",
       "      <th>Index</th>\n",
       "      <th>Friday</th>\n",
       "      <th>Monday</th>\n",
       "      <th>Saturday</th>\n",
       "      <th>Sunday</th>\n",
       "      <th>Thursday</th>\n",
       "      <th>Tuesday</th>\n",
       "      <th>Wednesday</th>\n",
       "    </tr>\n",
       "  </thead>\n",
       "  <tbody>\n",
       "    <tr>\n",
       "      <th>0</th>\n",
       "      <td>586.80</td>\n",
       "      <td>672.36</td>\n",
       "      <td>3424.87</td>\n",
       "      <td>3021.07</td>\n",
       "      <td>541.30</td>\n",
       "      <td>391.30</td>\n",
       "      <td>208.40</td>\n",
       "    </tr>\n",
       "    <tr>\n",
       "      <th>1</th>\n",
       "      <td>563.71</td>\n",
       "      <td>642.89</td>\n",
       "      <td>2237.64</td>\n",
       "      <td>2137.07</td>\n",
       "      <td>485.28</td>\n",
       "      <td>272.90</td>\n",
       "      <td>263.55</td>\n",
       "    </tr>\n",
       "    <tr>\n",
       "      <th>2</th>\n",
       "      <td>394.98</td>\n",
       "      <td>282.50</td>\n",
       "      <td>1398.27</td>\n",
       "      <td>1538.70</td>\n",
       "      <td>293.20</td>\n",
       "      <td>243.69</td>\n",
       "      <td>181.80</td>\n",
       "    </tr>\n",
       "    <tr>\n",
       "      <th>3</th>\n",
       "      <td>746.69</td>\n",
       "      <td>390.90</td>\n",
       "      <td>811.40</td>\n",
       "      <td>702.86</td>\n",
       "      <td>859.40</td>\n",
       "      <td>436.60</td>\n",
       "      <td>509.00</td>\n",
       "    </tr>\n",
       "    <tr>\n",
       "      <th>4</th>\n",
       "      <td>975.91</td>\n",
       "      <td>810.70</td>\n",
       "      <td>633.70</td>\n",
       "      <td>734.84</td>\n",
       "      <td>742.33</td>\n",
       "      <td>809.00</td>\n",
       "      <td>873.12</td>\n",
       "    </tr>\n",
       "  </tbody>\n",
       "</table>\n",
       "</div>"
      ],
      "text/plain": [
       "Index  Friday  Monday  Saturday   Sunday  Thursday  Tuesday  Wednesday\n",
       "0      586.80  672.36   3424.87  3021.07    541.30   391.30     208.40\n",
       "1      563.71  642.89   2237.64  2137.07    485.28   272.90     263.55\n",
       "2      394.98  282.50   1398.27  1538.70    293.20   243.69     181.80\n",
       "3      746.69  390.90    811.40   702.86    859.40   436.60     509.00\n",
       "4      975.91  810.70    633.70   734.84    742.33   809.00     873.12"
      ]
     },
     "execution_count": 138,
     "metadata": {},
     "output_type": "execute_result"
    }
   ],
   "source": [
    "amount_per_hour_per_day.head()"
   ]
  },
  {
   "cell_type": "markdown",
   "id": "adabf7e5",
   "metadata": {},
   "source": [
    "Ordering the days of the week, we have"
   ]
  },
  {
   "cell_type": "code",
   "execution_count": 139,
   "id": "bfc06980",
   "metadata": {},
   "outputs": [],
   "source": [
    "amount_per_hour_per_day = amount_per_hour_per_day[[\"Monday\",\"Tuesday\",\"Wednesday\",\"Thursday\", \"Friday\", \"Saturday\", \"Sunday\"]]"
   ]
  },
  {
   "cell_type": "code",
   "execution_count": 140,
   "id": "b7a921b3",
   "metadata": {},
   "outputs": [
    {
     "data": {
      "text/html": [
       "<div>\n",
       "<style scoped>\n",
       "    .dataframe tbody tr th:only-of-type {\n",
       "        vertical-align: middle;\n",
       "    }\n",
       "\n",
       "    .dataframe tbody tr th {\n",
       "        vertical-align: top;\n",
       "    }\n",
       "\n",
       "    .dataframe thead th {\n",
       "        text-align: right;\n",
       "    }\n",
       "</style>\n",
       "<table border=\"1\" class=\"dataframe\">\n",
       "  <thead>\n",
       "    <tr style=\"text-align: right;\">\n",
       "      <th>Index</th>\n",
       "      <th>Monday</th>\n",
       "      <th>Tuesday</th>\n",
       "      <th>Wednesday</th>\n",
       "      <th>Thursday</th>\n",
       "      <th>Friday</th>\n",
       "      <th>Saturday</th>\n",
       "      <th>Sunday</th>\n",
       "    </tr>\n",
       "  </thead>\n",
       "  <tbody>\n",
       "    <tr>\n",
       "      <th>0</th>\n",
       "      <td>672.36</td>\n",
       "      <td>391.30</td>\n",
       "      <td>208.40</td>\n",
       "      <td>541.30</td>\n",
       "      <td>586.80</td>\n",
       "      <td>3424.87</td>\n",
       "      <td>3021.07</td>\n",
       "    </tr>\n",
       "    <tr>\n",
       "      <th>1</th>\n",
       "      <td>642.89</td>\n",
       "      <td>272.90</td>\n",
       "      <td>263.55</td>\n",
       "      <td>485.28</td>\n",
       "      <td>563.71</td>\n",
       "      <td>2237.64</td>\n",
       "      <td>2137.07</td>\n",
       "    </tr>\n",
       "    <tr>\n",
       "      <th>2</th>\n",
       "      <td>282.50</td>\n",
       "      <td>243.69</td>\n",
       "      <td>181.80</td>\n",
       "      <td>293.20</td>\n",
       "      <td>394.98</td>\n",
       "      <td>1398.27</td>\n",
       "      <td>1538.70</td>\n",
       "    </tr>\n",
       "    <tr>\n",
       "      <th>3</th>\n",
       "      <td>390.90</td>\n",
       "      <td>436.60</td>\n",
       "      <td>509.00</td>\n",
       "      <td>859.40</td>\n",
       "      <td>746.69</td>\n",
       "      <td>811.40</td>\n",
       "      <td>702.86</td>\n",
       "    </tr>\n",
       "    <tr>\n",
       "      <th>4</th>\n",
       "      <td>810.70</td>\n",
       "      <td>809.00</td>\n",
       "      <td>873.12</td>\n",
       "      <td>742.33</td>\n",
       "      <td>975.91</td>\n",
       "      <td>633.70</td>\n",
       "      <td>734.84</td>\n",
       "    </tr>\n",
       "  </tbody>\n",
       "</table>\n",
       "</div>"
      ],
      "text/plain": [
       "Index  Monday  Tuesday  Wednesday  Thursday  Friday  Saturday   Sunday\n",
       "0      672.36   391.30     208.40    541.30  586.80   3424.87  3021.07\n",
       "1      642.89   272.90     263.55    485.28  563.71   2237.64  2137.07\n",
       "2      282.50   243.69     181.80    293.20  394.98   1398.27  1538.70\n",
       "3      390.90   436.60     509.00    859.40  746.69    811.40   702.86\n",
       "4      810.70   809.00     873.12    742.33  975.91    633.70   734.84"
      ]
     },
     "execution_count": 140,
     "metadata": {},
     "output_type": "execute_result"
    }
   ],
   "source": [
    "amount_per_hour_per_day.head()"
   ]
  },
  {
   "cell_type": "markdown",
   "id": "5de328e1",
   "metadata": {},
   "source": [
    "## Exploratory analysis"
   ]
  },
  {
   "cell_type": "markdown",
   "id": "00a7e11c",
   "metadata": {},
   "source": [
    "1. When are taxi services used most often? what can explain usage patterns?\n",
    "- To check this information, let's plot the consolidate data"
   ]
  },
  {
   "cell_type": "code",
   "execution_count": 142,
   "id": "c59815a8",
   "metadata": {},
   "outputs": [
    {
     "data": {
      "image/png": "[encoded data removed]",
      "text/plain": [
       "<Figure size 640x480 with 1 Axes>"
      ]
     },
     "metadata": {},
     "output_type": "display_data"
    }
   ],
   "source": [
    "daily_plot = sns.barplot(amount_per_hour_per_day, errorbar = None, color = \"royalblue\")\n",
    "\n",
    "daily_plot.set_title(\"Consolidated amount - Taxi value\")\n",
    "daily_plot.set_xlabel(\"Day\")\n",
    "daily_plot.set_ylabel(\"EUR\")\n",
    "\n",
    "daily_plot.set_xticklabels(daily_plot.get_xticklabels(), rotation=40, ha=\"right\")\n",
    "plt.tight_layout()\n",
    "plt.show()"
   ]
  },
  {
   "cell_type": "markdown",
   "id": "f9cd6042",
   "metadata": {},
   "source": [
    "As observed, Friday and Saturday are the days that taxi is used most often. We can consider that, in the weekend, people take more taxi to hanging out at night when the prices could be higher."
   ]
  },
  {
   "cell_type": "code",
   "execution_count": 193,
   "id": "907fa5d1",
   "metadata": {},
   "outputs": [
    {
     "data": {
      "image/png": "[encoded data removed]",
      "text/plain": [
       "<Figure size 1000x800 with 7 Axes>"
      ]
     },
     "metadata": {},
     "output_type": "display_data"
    }
   ],
   "source": [
    "figure, axis = plt.subplots(7, 1, figsize=(10, 8))\n",
    "plt.subplots_adjust(left=0.1,\n",
    "                    bottom=0.1,\n",
    "                    right=0.9,\n",
    "                    top=1.2,\n",
    "                    wspace=0.8,\n",
    "                    hspace=0.8)\n",
    "for index, day in enumerate(amount_per_hour_per_day):\n",
    "    axis[index].bar(fat_hour.Hour, amount_per_hour_per_day[day])\n",
    "    axis[index].set_title(f\"{day}\", fontsize=10)\n",
    "\n",
    "figure.autofmt_xdate()"
   ]
  },
  {
   "cell_type": "markdown",
   "id": "b5b49f00",
   "metadata": {},
   "source": [
    "With the data plot per dat, we can observe that during Monday to Thursday, we have the amount spent on taxi along the day (6AM - 5PM). On Friday and Saturday, the taxi usage increases at 8PM to midnight for the next day."
   ]
  },
  {
   "cell_type": "markdown",
   "id": "84e96b66",
   "metadata": {},
   "source": [
    "2. What is the typical amount of money spent on taxi service?"
   ]
  },
  {
   "cell_type": "markdown",
   "id": "db2de72c",
   "metadata": {},
   "source": [
    "Let's check the spent amount by hour. For this, we will analyse the median and the mean of amount value. The next plots will consider by day for the calculus. "
   ]
  },
  {
   "cell_type": "code",
   "execution_count": 215,
   "id": "a1637bdc",
   "metadata": {},
   "outputs": [],
   "source": [
    "amount_per_day_mean = df_taxi.groupby([df_taxi['day_of_the_week']]\n",
    "               )['amount_value'].mean()"
   ]
  },
  {
   "cell_type": "code",
   "execution_count": 250,
   "id": "2f9679dd",
   "metadata": {},
   "outputs": [],
   "source": [
    "amount_per_day_median = df_taxi.groupby([df_taxi['day_of_the_week']]\n",
    "               )['amount_value'].median()"
   ]
  },
  {
   "cell_type": "code",
   "execution_count": 259,
   "id": "729a120c",
   "metadata": {},
   "outputs": [
    {
     "data": {
      "text/plain": [
       "day_of_the_week\n",
       "Friday       18.025540\n",
       "Monday       18.952949\n",
       "Saturday     17.711490\n",
       "Sunday       18.324529\n",
       "Thursday     18.729316\n",
       "Tuesday      18.059264\n",
       "Wednesday    18.113902\n",
       "Name: amount_value, dtype: float64"
      ]
     },
     "execution_count": 259,
     "metadata": {},
     "output_type": "execute_result"
    }
   ],
   "source": [
    "amount_per_day_mean"
   ]
  },
  {
   "cell_type": "code",
   "execution_count": 260,
   "id": "5220227c",
   "metadata": {
    "scrolled": true
   },
   "outputs": [
    {
     "data": {
      "text/plain": [
       "day_of_the_week\n",
       "Friday       16.0\n",
       "Monday       16.0\n",
       "Saturday     15.0\n",
       "Sunday       15.8\n",
       "Thursday     15.8\n",
       "Tuesday      16.0\n",
       "Wednesday    15.0\n",
       "Name: amount_value, dtype: float64"
      ]
     },
     "execution_count": 260,
     "metadata": {},
     "output_type": "execute_result"
    }
   ],
   "source": [
    "amount_per_day_median"
   ]
  },
  {
   "cell_type": "markdown",
   "id": "6c5d89d0",
   "metadata": {},
   "source": [
    "As observed in the results, the amount spent is constant if considered the absolute value. We have both results, mean and median, to observe the deviation resulted by outliers in the mean calculation."
   ]
  },
  {
   "cell_type": "markdown",
   "id": "15bd5fb0",
   "metadata": {},
   "source": [
    "## Conclusions and comments"
   ]
  },
  {
   "cell_type": "markdown",
   "id": "8084bb93",
   "metadata": {},
   "source": [
    "Finally, based on the results before, we can get the following conclusions:\n",
    "\n",
    "- The taxi usage depends on the day of the week and the hour. Thus, the total amount spend will be greater on weekends and on working days.\n",
    "- On consolidated data, we observed that the amount spent is bigger on Friday and on Saturday.\n",
    "- Oberserving the Amount per Hour per Day, we can observe that on the weekends, the amound spent is greater at night. During the working day, we have the meaian around 8AM-4PM. "
   ]
  }
 ],
 "metadata": {
  "kernelspec": {
   "display_name": "Python 3 (ipykernel)",
   "language": "python",
   "name": "python3"
  },
  "language_info": {
   "codemirror_mode": {
    "name": "ipython",
    "version": 3
   },
   "file_extension": ".py",
   "mimetype": "text/x-python",
   "name": "python",
   "nbconvert_exporter": "python",
   "pygments_lexer": "ipython3",
   "version": "3.10.8"
  }
 },
 "nbformat": 4,
 "nbformat_minor": 5
}
